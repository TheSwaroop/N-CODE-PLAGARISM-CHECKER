{
 "cells": [
  {
   "cell_type": "code",
   "execution_count": 13,
   "id": "a441f2a1-ae4c-4b13-9926-3a57ff5dc796",
   "metadata": {},
   "outputs": [
    {
     "name": "stdout",
     "output_type": "stream",
     "text": [
      "\n",
      "Welcome to the Python Code Plagiarism Checker for Multiple Files!\n",
      "Let's find out how similar your Python files are.\n",
      "\n"
     ]
    },
    {
     "name": "stdin",
     "output_type": "stream",
     "text": [
      "How many Python files would you like to compare?  2\n",
      "Please enter the path for file 1:  C:\\Users\\SWAROOP\\OneDrive\\Desktop\\filen.py\n"
     ]
    },
    {
     "name": "stdout",
     "output_type": "stream",
     "text": [
      "Sorry, the file 'C:\\Users\\SWAROOP\\OneDrive\\Desktop\\filen.py' doesn't exist. Please check the path and restart the program.\n"
     ]
    }
   ],
   "source": [
    "#N CODE PLAGARISM CHECKER\n",
    "import difflib\n",
    "import os\n",
    "\n",
    "def read_code(file_path):\n",
    "    \"\"\"\n",
    "    Reads the content of a Python file and returns it as a list of lines.\n",
    "    If the file is not found, it prints an error message.\n",
    "    \"\"\"\n",
    "    try:\n",
    "        with open(file_path, 'r', encoding='utf-8') as file:\n",
    "            return file.readlines()\n",
    "    except FileNotFoundError:\n",
    "        print(f\"Oops! We couldn't find the file: '{file_path}'. Please check the path and try again.\")\n",
    "        return None\n",
    "\n",
    "def check_plagiarism_between_codes(code1, code2):\n",
    "    \"\"\"\n",
    "    Compares two sets of code (as lists of lines) and calculates the similarity percentage.\n",
    "    Returns the similarity as a percentage.\n",
    "    \"\"\"\n",
    "    diff = difflib.SequenceMatcher(None, code1, code2)\n",
    "    similarity = diff.ratio() * 100  # Convert ratio to percentage\n",
    "    return similarity\n",
    "\n",
    "def main():\n",
    "    print(\"\\nWelcome to the Python Code Plagiarism Checker for Multiple Files!\")\n",
    "    print(\"Let's find out how similar your Python files are.\\n\")\n",
    "    \n",
    "    try:\n",
    "        num_files = int(input(\"How many Python files would you like to compare? \"))\n",
    "    except ValueError:\n",
    "        print(\"Hmm, that doesn't seem to be a number. Please run the program again and enter a valid number.\")\n",
    "        return\n",
    "    \n",
    "    if num_files < 2:\n",
    "        print(\"We need at least two files to make a comparison. Please try again with two or more files.\")\n",
    "        return\n",
    "    \n",
    "    file_paths = []\n",
    "    for i in range(num_files):\n",
    "        file_path = input(f\"Please enter the path for file {i+1}: \").strip()\n",
    "        if not os.path.isfile(file_path):\n",
    "            print(f\"Sorry, the file '{file_path}' doesn't exist. Please check the path and restart the program.\")\n",
    "            return\n",
    "        file_paths.append(file_path)\n",
    "    \n",
    "    # Read the code from each file\n",
    "    codes = []\n",
    "    for path in file_paths:\n",
    "        code = read_code(path)\n",
    "        if code is None:\n",
    "            print(\"It seems there was a problem reading one of your files. Please try again.\")\n",
    "            return\n",
    "        codes.append(code)\n",
    "    \n",
    "    # Compare each file with every other file\n",
    "    print(\"\\nStarting the comparison between files...\\n\")\n",
    "    for i in range(len(codes)):\n",
    "        for j in range(i+1, len(codes)):\n",
    "            similarity = check_plagiarism_between_codes(codes[i], codes[j])\n",
    "            print(f\"Comparing '{file_paths[i]}' with '{file_paths[j]}':\")\n",
    "            print(f\"--> Similarity: {similarity:.2f}%\")\n",
    "            if similarity > 80:\n",
    "                print(\"    🚨 Wow! These files are very similar. There might be plagiarism here.\\n\")\n",
    "            elif similarity > 50:\n",
    "                print(\"    These files show moderate similarity. It could be partial plagiarism or shared common code.\\n\")\n",
    "            else:\n",
    "                print(\"    Good news! These files are quite different from each other.\\n\")\n",
    "\n",
    "    print(\"Comparison complete! Thanks for using the plagiarism checker. Have a great day!\")\n",
    "\n",
    "if __name__ == \"__main__\":\n",
    "    main()\n"
   ]
  },
  {
   "cell_type": "code",
   "execution_count": null,
   "id": "2078eacb-6d74-4662-9f3d-478dea3bdd9d",
   "metadata": {},
   "outputs": [],
   "source": []
  }
 ],
 "metadata": {
  "kernelspec": {
   "display_name": "Python 3 (ipykernel)",
   "language": "python",
   "name": "python3"
  },
  "language_info": {
   "codemirror_mode": {
    "name": "ipython",
    "version": 3
   },
   "file_extension": ".py",
   "mimetype": "text/x-python",
   "name": "python",
   "nbconvert_exporter": "python",
   "pygments_lexer": "ipython3",
   "version": "3.12.7"
  }
 },
 "nbformat": 4,
 "nbformat_minor": 5
}
